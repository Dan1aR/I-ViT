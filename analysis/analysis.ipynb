{
 "cells": [
  {
   "cell_type": "markdown",
   "id": "bf30e0d8",
   "metadata": {},
   "source": [
    "# Давай потыкаемся в реализацию"
   ]
  },
  {
   "cell_type": "code",
   "execution_count": 1,
   "id": "8cd2f6a1",
   "metadata": {},
   "outputs": [],
   "source": [
    "import sys \n",
    "sys.path.append(\"..\")\n",
    "\n",
    "import torch\n",
    "from models.quantization_utils.quant_utils import fixedpoint_mul\n",
    "from quant_train import deit_tiny_patch16_224\n",
    "\n"
   ]
  },
  {
   "cell_type": "code",
   "execution_count": 2,
   "id": "cc1b1afb",
   "metadata": {},
   "outputs": [
    {
     "data": {
      "text/plain": [
       "VisionTransformer(\n",
       "  (qact_input): QuantAct(activation_bit=8, quant_mode: symmetric\n",
       "  (patch_embed): PatchEmbed(\n",
       "    (proj): (QuantConv2d(3, 192, kernel_size=(16, 16), stride=(16, 16)) weight_bit=8, quant_mode=symmetric)\n",
       "    (qact): QuantAct(activation_bit=16, quant_mode: symmetric\n",
       "  )\n",
       "  (pos_drop): Dropout(p=0.0, inplace=False)\n",
       "  (qact_pos): QuantAct(activation_bit=16, quant_mode: symmetric\n",
       "  (qact1): QuantAct(activation_bit=16, quant_mode: symmetric\n",
       "  (blocks): ModuleList(\n",
       "    (0): Block(\n",
       "      (norm1): IntLayerNorm((192,), eps=1e-06, elementwise_affine=True)\n",
       "      (qact1): QuantAct(activation_bit=8, quant_mode: symmetric\n",
       "      (attn): Attention(\n",
       "        (qkv): (QuantLinear(in_features=192, out_features=576, bias=True) weight_bit=8, quant_mode=symmetric)\n",
       "        (qact1): QuantAct(activation_bit=8, quant_mode: symmetric\n",
       "        (qact_attn1): QuantAct(activation_bit=8, quant_mode: symmetric\n",
       "        (qact2): QuantAct(activation_bit=8, quant_mode: symmetric\n",
       "        (proj): (QuantLinear(in_features=192, out_features=192, bias=True) weight_bit=8, quant_mode=symmetric)\n",
       "        (qact3): QuantAct(activation_bit=16, quant_mode: symmetric\n",
       "        (qact_softmax): QuantAct(activation_bit=8, quant_mode: symmetric\n",
       "        (attn_drop): Dropout(p=0.0, inplace=False)\n",
       "        (proj_drop): Dropout(p=0.0, inplace=False)\n",
       "        (int_softmax): IntSoftmax()\n",
       "        (matmul_1): QuantMatMul()\n",
       "        (matmul_2): QuantMatMul()\n",
       "      )\n",
       "      (drop_path): Identity()\n",
       "      (qact2): QuantAct(activation_bit=16, quant_mode: symmetric\n",
       "      (norm2): IntLayerNorm((192,), eps=1e-06, elementwise_affine=True)\n",
       "      (qact3): QuantAct(activation_bit=8, quant_mode: symmetric\n",
       "      (mlp): Mlp(\n",
       "        (fc1): (QuantLinear(in_features=192, out_features=768, bias=True) weight_bit=8, quant_mode=symmetric)\n",
       "        (act): IntGELU()\n",
       "        (qact1): QuantAct(activation_bit=8, quant_mode: symmetric\n",
       "        (fc2): (QuantLinear(in_features=768, out_features=192, bias=True) weight_bit=8, quant_mode=symmetric)\n",
       "        (qact2): QuantAct(activation_bit=16, quant_mode: symmetric\n",
       "        (drop): Dropout(p=0.0, inplace=False)\n",
       "        (qact_gelu): QuantAct(activation_bit=8, quant_mode: symmetric\n",
       "      )\n",
       "      (qact4): QuantAct(activation_bit=16, quant_mode: symmetric\n",
       "    )\n",
       "    (1-11): 11 x Block(\n",
       "      (norm1): IntLayerNorm((192,), eps=1e-06, elementwise_affine=True)\n",
       "      (qact1): QuantAct(activation_bit=8, quant_mode: symmetric\n",
       "      (attn): Attention(\n",
       "        (qkv): (QuantLinear(in_features=192, out_features=576, bias=True) weight_bit=8, quant_mode=symmetric)\n",
       "        (qact1): QuantAct(activation_bit=8, quant_mode: symmetric\n",
       "        (qact_attn1): QuantAct(activation_bit=8, quant_mode: symmetric\n",
       "        (qact2): QuantAct(activation_bit=8, quant_mode: symmetric\n",
       "        (proj): (QuantLinear(in_features=192, out_features=192, bias=True) weight_bit=8, quant_mode=symmetric)\n",
       "        (qact3): QuantAct(activation_bit=16, quant_mode: symmetric\n",
       "        (qact_softmax): QuantAct(activation_bit=8, quant_mode: symmetric\n",
       "        (attn_drop): Dropout(p=0.0, inplace=False)\n",
       "        (proj_drop): Dropout(p=0.0, inplace=False)\n",
       "        (int_softmax): IntSoftmax()\n",
       "        (matmul_1): QuantMatMul()\n",
       "        (matmul_2): QuantMatMul()\n",
       "      )\n",
       "      (drop_path): DropPath()\n",
       "      (qact2): QuantAct(activation_bit=16, quant_mode: symmetric\n",
       "      (norm2): IntLayerNorm((192,), eps=1e-06, elementwise_affine=True)\n",
       "      (qact3): QuantAct(activation_bit=8, quant_mode: symmetric\n",
       "      (mlp): Mlp(\n",
       "        (fc1): (QuantLinear(in_features=192, out_features=768, bias=True) weight_bit=8, quant_mode=symmetric)\n",
       "        (act): IntGELU()\n",
       "        (qact1): QuantAct(activation_bit=8, quant_mode: symmetric\n",
       "        (fc2): (QuantLinear(in_features=768, out_features=192, bias=True) weight_bit=8, quant_mode=symmetric)\n",
       "        (qact2): QuantAct(activation_bit=16, quant_mode: symmetric\n",
       "        (drop): Dropout(p=0.0, inplace=False)\n",
       "        (qact_gelu): QuantAct(activation_bit=8, quant_mode: symmetric\n",
       "      )\n",
       "      (qact4): QuantAct(activation_bit=16, quant_mode: symmetric\n",
       "    )\n",
       "  )\n",
       "  (norm): IntLayerNorm((192,), eps=1e-06, elementwise_affine=True)\n",
       "  (qact2): QuantAct(activation_bit=8, quant_mode: symmetric\n",
       "  (pre_logits): Identity()\n",
       "  (head): (QuantLinear(in_features=192, out_features=1000, bias=True) weight_bit=8, quant_mode=symmetric)\n",
       "  (act_out): QuantAct(activation_bit=8, quant_mode: symmetric\n",
       ")"
      ]
     },
     "execution_count": 2,
     "metadata": {},
     "output_type": "execute_result"
    }
   ],
   "source": [
    "nb_classes = 1000\n",
    "drop = 0.\n",
    "drop_path = 0.1\n",
    "\n",
    "model = deit_tiny_patch16_224(\n",
    "    pretrained=True,\n",
    "    num_classes=nb_classes,\n",
    "    drop_rate=drop,\n",
    "    drop_path_rate=drop_path\n",
    ")\n",
    "model.eval()"
   ]
  },
  {
   "cell_type": "code",
   "execution_count": 3,
   "id": "7cfff593",
   "metadata": {},
   "outputs": [
    {
     "data": {
      "text/plain": [
       "tensor([[[  -1,   42, -127,  ...,   35,  122,  -31],\n",
       "         [  86,  121,   62,  ...,  -87,   94,   62],\n",
       "         [  27,  -62,  -45,  ..., -101, -118,  -38],\n",
       "         ...,\n",
       "         [  51,    1,  -29,  ...,  -60, -119,   18],\n",
       "         [   5,   23,   77,  ...,  100,   90,   61],\n",
       "         [-119, -107,  -46,  ...,  -77,   95,   28]]])"
      ]
     },
     "execution_count": 3,
     "metadata": {},
     "output_type": "execute_result"
    }
   ],
   "source": [
    "\n",
    "\n",
    "B = 1\n",
    "T = 128\n",
    "D = 32\n",
    "\n",
    "x = torch.randint(-127, 127, size=(B, T, D))\n",
    "x"
   ]
  },
  {
   "cell_type": "code",
   "execution_count": 4,
   "id": "8803d9c4",
   "metadata": {},
   "outputs": [],
   "source": [
    "pre_act_scaling_factor = torch.tensor(1 / 127)\n",
    "activation_bit = 9\n",
    "quant_mode = 'symmetric'\n",
    "act_scaling_factor = torch.tensor(1 / 64)"
   ]
  },
  {
   "cell_type": "code",
   "execution_count": 5,
   "id": "cabee355",
   "metadata": {},
   "outputs": [],
   "source": [
    "quant_act_int = fixedpoint_mul.apply(\n",
    "    x, pre_act_scaling_factor,\n",
    "    activation_bit, quant_mode,\n",
    "    act_scaling_factor,\n",
    ")"
   ]
  },
  {
   "cell_type": "code",
   "execution_count": 6,
   "id": "4646f4f4",
   "metadata": {},
   "outputs": [
    {
     "data": {
      "text/plain": [
       "tensor([[[  -64.,  2688., -8128.,  ...,  2240.,  7808., -1984.],\n",
       "         [ 5504.,  7744.,  3968.,  ..., -5568.,  6016.,  3968.],\n",
       "         [ 1728., -3968., -2880.,  ..., -6464., -7552., -2432.],\n",
       "         ...,\n",
       "         [ 3264.,    64., -1856.,  ..., -3840., -7616.,  1152.],\n",
       "         [  320.,  1472.,  4928.,  ...,  6400.,  5760.,  3904.],\n",
       "         [-7616., -6848., -2944.,  ..., -4928.,  6080.,  1792.]]])"
      ]
     },
     "execution_count": 6,
     "metadata": {},
     "output_type": "execute_result"
    }
   ],
   "source": [
    "quant_act_int"
   ]
  },
  {
   "cell_type": "code",
   "execution_count": null,
   "id": "9bba462c",
   "metadata": {},
   "outputs": [],
   "source": []
  },
  {
   "cell_type": "code",
   "execution_count": null,
   "id": "a9cf2a10",
   "metadata": {},
   "outputs": [],
   "source": []
  }
 ],
 "metadata": {
  "kernelspec": {
   "display_name": ".venv",
   "language": "python",
   "name": "python3"
  },
  "language_info": {
   "codemirror_mode": {
    "name": "ipython",
    "version": 3
   },
   "file_extension": ".py",
   "mimetype": "text/x-python",
   "name": "python",
   "nbconvert_exporter": "python",
   "pygments_lexer": "ipython3",
   "version": "3.13.3"
  }
 },
 "nbformat": 4,
 "nbformat_minor": 5
}
